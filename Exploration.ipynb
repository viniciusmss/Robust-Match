{
 "cells": [
  {
   "cell_type": "markdown",
   "metadata": {},
   "source": [
    "# Genetic Matching for Robustness and Model Independence"
   ]
  },
  {
   "cell_type": "markdown",
   "metadata": {},
   "source": [
    "__Tasks__\n",
    "\n",
    "[ ] Get the nsw dataset\n",
    "\n",
    "[ ] # SECOND OPTION: Maximize gamma associated with losing statistical significance instead of the max pvalue of gamma = 1.5\n",
    "\n",
    "[ ] who has cited Athey and Imbens?"
   ]
  },
  {
   "cell_type": "markdown",
   "metadata": {},
   "source": [
    "## Prelude\n",
    "\n",
    "Let's get a taste of the libraries we will be using."
   ]
  },
  {
   "cell_type": "code",
   "execution_count": 1,
   "metadata": {
    "ExecuteTime": {
     "end_time": "2020-02-17T06:59:32.860584Z",
     "start_time": "2020-02-17T06:59:32.429Z"
    }
   },
   "outputs": [
    {
     "name": "stderr",
     "output_type": "stream",
     "text": [
      "Loading required package: Matching\n",
      "Loading required package: MASS\n",
      "## \n",
      "##  Matching (Version 4.9-3, Build Date: 2018-05-03)\n",
      "##  See http://sekhon.berkeley.edu/matching for additional documentation.\n",
      "##  Please cite software as:\n",
      "##   Jasjeet S. Sekhon. 2011. ``Multivariate and Propensity Score Matching\n",
      "##   Software with Automated Balance Optimization: The Matching package for R.''\n",
      "##   Journal of Statistical Software, 42(7): 1-52. \n",
      "##\n",
      "\n",
      "##  rgenoud (Version 5.8-2.0, Build Date: 2018-04-03)\n",
      "##  See http://sekhon.berkeley.edu/rgenoud for additional documentation.\n",
      "##  Please cite software as:\n",
      "##   Walter Mebane, Jr. and Jasjeet S. Sekhon. 2011.\n",
      "##   ``Genetic Optimization Using Derivatives: The rgenoud package for R.''\n",
      "##   Journal of Statistical Software, 42(11): 1-26. \n",
      "##\n",
      "\n"
     ]
    }
   ],
   "source": [
    "# Load imports\n",
    "library(rbounds)\n",
    "library(rgenoud)\n",
    "\n",
    "# Load data\n",
    "data(lalonde)\n",
    "attach(lalonde)"
   ]
  },
  {
   "cell_type": "code",
   "execution_count": 2,
   "metadata": {
    "ExecuteTime": {
     "end_time": "2020-02-17T06:59:32.898454Z",
     "start_time": "2020-02-17T06:59:32.438Z"
    }
   },
   "outputs": [],
   "source": [
    "# Create data objects\n",
    "Y <- re78\n",
    "Tr <- treat\n",
    "X <- cbind(age, educ, black, hisp, married, nodegr, re74, re75, u74, u75)\n",
    "BalanceMat <- cbind(age, I(age^2), educ, I(educ^2), black,\n",
    "                    hisp, married, nodegr, re74 , I(re74^2), re75, I(re75^2),\n",
    "                    u74, u75, I(re74*re75), I(age*nodegr), I(educ*re74), I(educ*75))"
   ]
  },
  {
   "cell_type": "code",
   "execution_count": 3,
   "metadata": {
    "ExecuteTime": {
     "end_time": "2020-02-17T06:59:48.522666Z",
     "start_time": "2020-02-17T06:59:32.443Z"
    },
    "scrolled": true
   },
   "outputs": [
    {
     "name": "stdout",
     "output_type": "stream",
     "text": [
      "\n",
      "\n",
      "Mon Feb 17 14:59:32 2020\n",
      "Domains:\n",
      " 0.000000e+00   <=  X1   <=    1.000000e+03 \n",
      " 0.000000e+00   <=  X2   <=    1.000000e+03 \n",
      " 0.000000e+00   <=  X3   <=    1.000000e+03 \n",
      " 0.000000e+00   <=  X4   <=    1.000000e+03 \n",
      " 0.000000e+00   <=  X5   <=    1.000000e+03 \n",
      " 0.000000e+00   <=  X6   <=    1.000000e+03 \n",
      " 0.000000e+00   <=  X7   <=    1.000000e+03 \n",
      " 0.000000e+00   <=  X8   <=    1.000000e+03 \n",
      " 0.000000e+00   <=  X9   <=    1.000000e+03 \n",
      " 0.000000e+00   <=  X10  <=    1.000000e+03 \n",
      "\n",
      "Data Type: Floating Point\n",
      "Operators (code number, name, population) \n",
      "\t(1) Cloning........................... \t7\n",
      "\t(2) Uniform Mutation.................. \t6\n",
      "\t(3) Boundary Mutation................. \t6\n",
      "\t(4) Non-Uniform Mutation.............. \t6\n",
      "\t(5) Polytope Crossover................ \t6\n",
      "\t(6) Simple Crossover.................. \t6\n",
      "\t(7) Whole Non-Uniform Mutation........ \t6\n",
      "\t(8) Heuristic Crossover............... \t6\n",
      "\t(9) Local-Minimum Crossover........... \t0\n",
      "\n",
      "SOFT Maximum Number of Generations: 100\n",
      "Maximum Nonchanging Generations: 4\n",
      "Population size       : 50\n",
      "Convergence Tolerance: 1.000000e-03\n",
      "\n",
      "Not Using the BFGS Derivative Based Optimizer on the Best Individual Each Generation.\n",
      "Not Checking Gradients before Stopping.\n",
      "Using Out of Bounds Individuals.\n",
      "\n",
      "Maximization Problem.\n",
      "\n",
      "\n",
      "Generation#\t    Solution Values (lexical)\n",
      "\n",
      "      0 \t1.291598e-02  1.291598e-02  5.790511e-02  5.790511e-02  5.797446e-02  7.850709e-02  8.243333e-02  8.243333e-02  8.952089e-02  9.118517e-02  1.567422e-01  1.567422e-01  2.570747e-01  2.753568e-01  2.801446e-01  2.839948e-01  3.173158e-01  3.173158e-01  3.567475e-01  4.933736e-01  4.933736e-01  4.933736e-01  4.933736e-01  5.640577e-01  5.640577e-01  6.620291e-01  6.620291e-01  6.742277e-01  7.509896e-01  7.509896e-01  9.993801e-01  9.993801e-01  9.993801e-01  9.993801e-01  9.999750e-01  9.999999e-01  \n",
      "\n",
      "      1 \t1.291598e-02  1.291598e-02  5.790511e-02  5.790511e-02  6.032554e-02  7.681657e-02  8.243333e-02  8.243333e-02  9.745311e-02  9.904345e-02  1.567422e-01  1.567422e-01  1.900074e-01  2.583489e-01  2.749694e-01  2.875271e-01  3.173158e-01  3.173158e-01  3.574803e-01  4.793119e-01  4.793119e-01  4.933736e-01  4.933736e-01  4.933736e-01  4.933736e-01  5.640577e-01  5.640577e-01  6.753476e-01  7.509896e-01  7.509896e-01  9.993801e-01  9.993801e-01  9.993801e-01  9.993801e-01  9.999750e-01  9.999999e-01  \n",
      "\n",
      "      2 \t2.992821e-02  2.992821e-02  5.690230e-02  5.690230e-02  7.900165e-02  7.925902e-02  1.204723e-01  1.330314e-01  1.361999e-01  1.456090e-01  1.567422e-01  1.567422e-01  2.544068e-01  2.566608e-01  2.566608e-01  2.704556e-01  2.766902e-01  3.173158e-01  3.173158e-01  5.751819e-01  5.773083e-01  5.877717e-01  5.877717e-01  6.645532e-01  6.645532e-01  6.645532e-01  7.509896e-01  7.509896e-01  9.993801e-01  9.993801e-01  9.993801e-01  9.993801e-01  9.993801e-01  9.999750e-01  1.000000e+00  1.000000e+00  \n",
      "\n",
      "      3 \t3.396340e-02  3.396340e-02  5.690230e-02  5.690230e-02  7.798296e-02  8.430245e-02  1.204723e-01  1.256852e-01  1.261811e-01  1.455481e-01  1.567422e-01  1.567422e-01  2.566608e-01  2.566608e-01  2.596667e-01  2.704556e-01  2.766213e-01  3.173158e-01  3.173158e-01  5.751809e-01  5.913615e-01  5.913615e-01  6.645532e-01  6.645532e-01  6.645532e-01  6.645532e-01  7.509896e-01  7.509896e-01  9.993801e-01  9.993801e-01  9.993801e-01  9.993801e-01  9.993801e-01  9.999750e-01  1.000000e+00  1.000000e+00  \n",
      "\n",
      "      4 \t3.396340e-02  3.396340e-02  9.102583e-02  1.238769e-01  1.271575e-01  1.345788e-01  1.567422e-01  1.567422e-01  1.792463e-01  1.792463e-01  2.098974e-01  2.142486e-01  3.090959e-01  3.173158e-01  3.173158e-01  3.308752e-01  3.538026e-01  6.550725e-01  6.550725e-01  6.645532e-01  6.645532e-01  6.645532e-01  6.645532e-01  6.910316e-01  7.638865e-01  7.638865e-01  8.312170e-01  8.312170e-01  9.993801e-01  9.993801e-01  9.993801e-01  9.993801e-01  9.993801e-01  9.999999e-01  1.000000e+00  1.000000e+00  \n",
      "\n",
      "      6 \t3.814020e-02  3.814020e-02  4.462685e-02  4.462685e-02  5.790511e-02  5.790511e-02  8.403891e-02  9.187654e-02  9.314475e-02  1.034323e-01  1.138309e-01  1.415297e-01  1.567422e-01  1.567422e-01  2.724452e-01  2.854497e-01  3.173158e-01  3.173158e-01  3.173158e-01  3.173158e-01  4.085644e-01  5.781929e-01  6.645532e-01  6.645532e-01  6.645532e-01  6.645532e-01  7.509896e-01  7.509896e-01  8.404996e-01  8.404996e-01  9.993801e-01  9.993801e-01  9.993801e-01  9.993801e-01  9.993801e-01  9.999750e-01  \n",
      "\n",
      "      7 \t3.814020e-02  3.814020e-02  9.214648e-02  1.016995e-01  1.016995e-01  1.143044e-01  1.418078e-01  1.567359e-01  1.635396e-01  1.745811e-01  1.792463e-01  1.792463e-01  2.724455e-01  3.173158e-01  3.173158e-01  3.586566e-01  3.998497e-01  4.144313e-01  4.144313e-01  5.782228e-01  6.645532e-01  6.645532e-01  6.645532e-01  6.645532e-01  7.627265e-01  7.627265e-01  8.312170e-01  8.312170e-01  9.993801e-01  9.993801e-01  9.993801e-01  9.993801e-01  9.993801e-01  9.999750e-01  1.000000e+00  1.000000e+00  \n",
      "\n",
      "      8 \t3.814020e-02  3.814020e-02  9.552639e-02  1.016995e-01  1.016995e-01  1.143044e-01  1.418078e-01  1.423816e-01  1.428271e-01  1.745811e-01  1.792463e-01  1.792463e-01  2.724455e-01  3.173158e-01  3.173158e-01  3.586566e-01  3.998497e-01  4.144313e-01  4.144313e-01  5.782228e-01  6.645532e-01  6.645532e-01  6.645532e-01  6.645532e-01  7.627265e-01  7.627265e-01  8.312170e-01  8.312170e-01  9.993801e-01  9.993801e-01  9.993801e-01  9.993801e-01  9.993801e-01  9.999750e-01  1.000000e+00  1.000000e+00  \n",
      "\n",
      "     10 \t3.814020e-02  3.814020e-02  9.570633e-02  1.016995e-01  1.016995e-01  1.143044e-01  1.291365e-01  1.312865e-01  1.418078e-01  1.745811e-01  1.792463e-01  1.792463e-01  2.724455e-01  3.173158e-01  3.173158e-01  3.998497e-01  4.058229e-01  4.144313e-01  4.144313e-01  5.782228e-01  6.645532e-01  6.645532e-01  6.645532e-01  6.645532e-01  8.312170e-01  8.312170e-01  8.396947e-01  8.396947e-01  9.993801e-01  9.993801e-01  9.993801e-01  9.993801e-01  9.993801e-01  9.999750e-01  1.000000e+00  1.000000e+00  \n",
      "\n",
      "     14 \t3.814020e-02  3.814020e-02  9.590518e-02  1.016995e-01  1.016995e-01  1.143044e-01  1.418078e-01  1.421055e-01  1.425976e-01  1.745811e-01  1.792463e-01  1.792463e-01  2.724455e-01  3.173158e-01  3.173158e-01  3.586566e-01  3.998497e-01  4.144313e-01  4.144313e-01  5.782228e-01  6.645532e-01  6.645532e-01  6.645532e-01  6.645532e-01  7.627265e-01  7.627265e-01  8.312170e-01  8.312170e-01  9.993801e-01  9.993801e-01  9.993801e-01  9.993801e-01  9.993801e-01  9.999750e-01  1.000000e+00  1.000000e+00  \n",
      "\n",
      "     17 \t3.814020e-02  3.814020e-02  1.016995e-01  1.016995e-01  1.035572e-01  1.040383e-01  1.102962e-01  1.367048e-01  1.792463e-01  1.792463e-01  2.850664e-01  3.086501e-01  3.173158e-01  3.173158e-01  3.294224e-01  3.524231e-01  3.880707e-01  6.510175e-01  6.510175e-01  6.550725e-01  6.550725e-01  6.645532e-01  6.645532e-01  6.645532e-01  6.645532e-01  7.269639e-01  8.312170e-01  8.312170e-01  9.993801e-01  9.993801e-01  9.993801e-01  9.993801e-01  9.993801e-01  1.000000e+00  1.000000e+00  1.000000e+00  \n",
      "\n",
      "'wait.generations' limit reached.\n",
      "No significant improvement in 4 generations.\n",
      "\n",
      "Solution Lexical Fitness Value:\n",
      "3.814020e-02  3.814020e-02  1.016995e-01  1.016995e-01  1.035572e-01  1.040383e-01  1.102962e-01  1.367048e-01  1.792463e-01  1.792463e-01  2.850664e-01  3.086501e-01  3.173158e-01  3.173158e-01  3.294224e-01  3.524231e-01  3.880707e-01  6.510175e-01  6.510175e-01  6.550725e-01  6.550725e-01  6.645532e-01  6.645532e-01  6.645532e-01  6.645532e-01  7.269639e-01  8.312170e-01  8.312170e-01  9.993801e-01  9.993801e-01  9.993801e-01  9.993801e-01  9.993801e-01  1.000000e+00  1.000000e+00  1.000000e+00  \n",
      "\n",
      "Parameters at the Solution:\n",
      "\n",
      " X[ 1] :\t4.288913e+02\n",
      " X[ 2] :\t9.424650e+01\n",
      " X[ 3] :\t7.621631e+02\n",
      " X[ 4] :\t1.591589e+02\n",
      " X[ 5] :\t8.722614e+02\n",
      " X[ 6] :\t1.610621e-01\n",
      " X[ 7] :\t6.336749e+02\n",
      " X[ 8] :\t7.989082e+02\n",
      " X[ 9] :\t1.191244e+02\n",
      " X[10] :\t1.535799e+02\n",
      "\n",
      "Solution Found Generation 17\n",
      "Number of Generations Run 22\n",
      "\n",
      "Mon Feb 17 14:59:48 2020\n",
      "Total run time : 0 hours 0 minutes and 16 seconds\n"
     ]
    }
   ],
   "source": [
    "set.seed(12345)\n",
    "# Genetic matching \n",
    "gen1 <- GenMatch(Tr=Tr, X=X, BalanceMat=BalanceMat, pop.size=50,\n",
    "                 data.type.int=FALSE, print=1, replace=FALSE)"
   ]
  },
  {
   "cell_type": "code",
   "execution_count": 4,
   "metadata": {
    "ExecuteTime": {
     "end_time": "2020-02-17T06:59:48.590606Z",
     "start_time": "2020-02-17T06:59:32.450Z"
    }
   },
   "outputs": [
    {
     "name": "stdout",
     "output_type": "stream",
     "text": [
      "\n",
      "Estimate...  1789.4 \n",
      "SE.........  705.77 \n",
      "T-stat.....  2.5354 \n",
      "p.val......  0.011233 \n",
      "\n",
      "Original number of observations..............  445 \n",
      "Original number of treated obs...............  185 \n",
      "Matched number of observations...............  185 \n",
      "Matched number of observations  (unweighted).  185 \n",
      "\n"
     ]
    }
   ],
   "source": [
    "# Matching\n",
    "mgen1 <- Match(Y=Y, Tr=Tr, X=X, Weight.matrix=gen1, replace=FALSE)\n",
    "summary(mgen1)"
   ]
  },
  {
   "cell_type": "code",
   "execution_count": 6,
   "metadata": {
    "ExecuteTime": {
     "end_time": "2020-02-17T06:59:52.553074Z",
     "start_time": "2020-02-17T06:59:32.459Z"
    }
   },
   "outputs": [
    {
     "name": "stdout",
     "output_type": "stream",
     "text": [
      "[1] 0.0381402\n",
      "[1] 0.0381402\n"
     ]
    }
   ],
   "source": [
    "# Balance\n",
    "mbgen1 <- MatchBalance(Tr ~ age + I(age^2)+ educ + I(educ^2) + black +\n",
    "                       hisp + married + nodegr + re74 + I(re74^2) + re75 + I(re75^2) +\n",
    "                       u74 + u75 + I(re74*re75) + I(age*nodegr) + I(educ*re74) + I(educ*75),\n",
    "                       data=lalonde, match.out = mgen1, print.level=0)"
   ]
  },
  {
   "cell_type": "code",
   "execution_count": 7,
   "metadata": {
    "ExecuteTime": {
     "end_time": "2020-02-17T06:59:56.829646Z",
     "start_time": "2020-02-17T06:59:32.465Z"
    }
   },
   "outputs": [
    {
     "data": {
      "text/html": [
       "<dl>\n",
       "\t<dt>$Gamma</dt>\n",
       "\t\t<dd>1.5</dd>\n",
       "\t<dt>$GammaInc</dt>\n",
       "\t\t<dd>0.1</dd>\n",
       "\t<dt>$pval</dt>\n",
       "\t\t<dd>0.0103</dd>\n",
       "\t<dt>$msg</dt>\n",
       "\t\t<dd>'Rosenbaum Sensitivity Test for Wilcoxon Signed Rank P-Value \\n'</dd>\n",
       "\t<dt>$bounds</dt>\n",
       "\t\t<dd><table>\n",
       "<thead><tr><th scope=col>Gamma</th><th scope=col>Lower bound</th><th scope=col>Upper bound</th></tr></thead>\n",
       "<tbody>\n",
       "\t<tr><td>1.0   </td><td>0.0103</td><td>0.0103</td></tr>\n",
       "\t<tr><td>1.1   </td><td>0.0021</td><td>0.0376</td></tr>\n",
       "\t<tr><td>1.2   </td><td>0.0004</td><td>0.0979</td></tr>\n",
       "\t<tr><td>1.3   </td><td>0.0001</td><td>0.1981</td></tr>\n",
       "\t<tr><td>1.4   </td><td>0.0000</td><td>0.3309</td></tr>\n",
       "\t<tr><td>1.5   </td><td>0.0000</td><td>0.4778</td></tr>\n",
       "</tbody>\n",
       "</table>\n",
       "</dd>\n",
       "\t<dt>$note</dt>\n",
       "\t\t<dd>'Note: Gamma is Odds of Differential Assignment To\\n Treatment Due to Unobserved Factors \\n'</dd>\n",
       "</dl>\n"
      ],
      "text/latex": [
       "\\begin{description}\n",
       "\\item[\\$Gamma] 1.5\n",
       "\\item[\\$GammaInc] 0.1\n",
       "\\item[\\$pval] 0.0103\n",
       "\\item[\\$msg] 'Rosenbaum Sensitivity Test for Wilcoxon Signed Rank P-Value \\textbackslash{}n'\n",
       "\\item[\\$bounds] \\begin{tabular}{r|lll}\n",
       " Gamma & Lower bound & Upper bound\\\\\n",
       "\\hline\n",
       "\t 1.0    & 0.0103 & 0.0103\\\\\n",
       "\t 1.1    & 0.0021 & 0.0376\\\\\n",
       "\t 1.2    & 0.0004 & 0.0979\\\\\n",
       "\t 1.3    & 0.0001 & 0.1981\\\\\n",
       "\t 1.4    & 0.0000 & 0.3309\\\\\n",
       "\t 1.5    & 0.0000 & 0.4778\\\\\n",
       "\\end{tabular}\n",
       "\n",
       "\\item[\\$note] 'Note: Gamma is Odds of Differential Assignment To\\textbackslash{}n Treatment Due to Unobserved Factors \\textbackslash{}n'\n",
       "\\end{description}\n"
      ],
      "text/markdown": [
       "$Gamma\n",
       ":   1.5\n",
       "$GammaInc\n",
       ":   0.1\n",
       "$pval\n",
       ":   0.0103\n",
       "$msg\n",
       ":   'Rosenbaum Sensitivity Test for Wilcoxon Signed Rank P-Value \\n'\n",
       "$bounds\n",
       ":   \n",
       "Gamma | Lower bound | Upper bound | \n",
       "|---|---|---|---|---|---|\n",
       "| 1.0    | 0.0103 | 0.0103 | \n",
       "| 1.1    | 0.0021 | 0.0376 | \n",
       "| 1.2    | 0.0004 | 0.0979 | \n",
       "| 1.3    | 0.0001 | 0.1981 | \n",
       "| 1.4    | 0.0000 | 0.3309 | \n",
       "| 1.5    | 0.0000 | 0.4778 | \n",
       "\n",
       "\n",
       "\n",
       "$note\n",
       ":   'Note: Gamma is Odds of Differential Assignment To\\n Treatment Due to Unobserved Factors \\n'\n",
       "\n",
       "\n"
      ],
      "text/plain": [
       "\n",
       " Rosenbaum Sensitivity Test for Wilcoxon Signed Rank P-Value \n",
       " \n",
       "Unconfounded estimate ....  0.0103 \n",
       "\n",
       " Gamma Lower bound Upper bound\n",
       "   1.0      0.0103      0.0103\n",
       "   1.1      0.0021      0.0376\n",
       "   1.2      0.0004      0.0979\n",
       "   1.3      0.0001      0.1981\n",
       "   1.4      0.0000      0.3309\n",
       "   1.5      0.0000      0.4778\n",
       "\n",
       " Note: Gamma is Odds of Differential Assignment To\n",
       " Treatment Due to Unobserved Factors \n",
       " "
      ]
     },
     "metadata": {},
     "output_type": "display_data"
    },
    {
     "data": {
      "text/html": [
       "<ol class=list-inline>\n",
       "\t<li>0.9897</li>\n",
       "\t<li>0.9624</li>\n",
       "\t<li>0.9021</li>\n",
       "\t<li>0.8019</li>\n",
       "\t<li>0.6691</li>\n",
       "\t<li>0.5222</li>\n",
       "</ol>\n"
      ],
      "text/latex": [
       "\\begin{enumerate*}\n",
       "\\item 0.9897\n",
       "\\item 0.9624\n",
       "\\item 0.9021\n",
       "\\item 0.8019\n",
       "\\item 0.6691\n",
       "\\item 0.5222\n",
       "\\end{enumerate*}\n"
      ],
      "text/markdown": [
       "1. 0.9897\n",
       "2. 0.9624\n",
       "3. 0.9021\n",
       "4. 0.8019\n",
       "5. 0.6691\n",
       "6. 0.5222\n",
       "\n",
       "\n"
      ],
      "text/plain": [
       "[1] 0.9897 0.9624 0.9021 0.8019 0.6691 0.5222"
      ]
     },
     "metadata": {},
     "output_type": "display_data"
    },
    {
     "data": {
      "text/html": [
       "<dl>\n",
       "\t<dt>$Gamma</dt>\n",
       "\t\t<dd>1.5</dd>\n",
       "\t<dt>$GammaInc</dt>\n",
       "\t\t<dd>0.1</dd>\n",
       "\t<dt>$pval</dt>\n",
       "\t\t<dd>1584.2950913997</dd>\n",
       "\t<dt>$msg</dt>\n",
       "\t\t<dd>'Rosenbaum Sensitivity Test for Hodges-Lehmann Point Estimate \\n'</dd>\n",
       "\t<dt>$bounds</dt>\n",
       "\t\t<dd><table>\n",
       "<thead><tr><th scope=col>Gamma</th><th scope=col>Lower bound</th><th scope=col>Upper bound</th></tr></thead>\n",
       "<tbody>\n",
       "\t<tr><td>1.0     </td><td>1584.300</td><td>1584.3  </td></tr>\n",
       "\t<tr><td>1.1     </td><td> 970.200</td><td>1717.9  </td></tr>\n",
       "\t<tr><td>1.2     </td><td> 622.300</td><td>2016.4  </td></tr>\n",
       "\t<tr><td>1.3     </td><td> 332.300</td><td>2276.1  </td></tr>\n",
       "\t<tr><td>1.4     </td><td>  88.195</td><td>2575.9  </td></tr>\n",
       "\t<tr><td>1.5     </td><td> -91.005</td><td>2850.4  </td></tr>\n",
       "</tbody>\n",
       "</table>\n",
       "</dd>\n",
       "\t<dt>$note</dt>\n",
       "\t\t<dd>'Note: Gamma is Odds of Differential Assignment To\\n Treatment Due to Unobserved Factors \\n'</dd>\n",
       "</dl>\n"
      ],
      "text/latex": [
       "\\begin{description}\n",
       "\\item[\\$Gamma] 1.5\n",
       "\\item[\\$GammaInc] 0.1\n",
       "\\item[\\$pval] 1584.2950913997\n",
       "\\item[\\$msg] 'Rosenbaum Sensitivity Test for Hodges-Lehmann Point Estimate \\textbackslash{}n'\n",
       "\\item[\\$bounds] \\begin{tabular}{r|lll}\n",
       " Gamma & Lower bound & Upper bound\\\\\n",
       "\\hline\n",
       "\t 1.0      & 1584.300 & 1584.3  \\\\\n",
       "\t 1.1      &  970.200 & 1717.9  \\\\\n",
       "\t 1.2      &  622.300 & 2016.4  \\\\\n",
       "\t 1.3      &  332.300 & 2276.1  \\\\\n",
       "\t 1.4      &   88.195 & 2575.9  \\\\\n",
       "\t 1.5      &  -91.005 & 2850.4  \\\\\n",
       "\\end{tabular}\n",
       "\n",
       "\\item[\\$note] 'Note: Gamma is Odds of Differential Assignment To\\textbackslash{}n Treatment Due to Unobserved Factors \\textbackslash{}n'\n",
       "\\end{description}\n"
      ],
      "text/markdown": [
       "$Gamma\n",
       ":   1.5\n",
       "$GammaInc\n",
       ":   0.1\n",
       "$pval\n",
       ":   1584.2950913997\n",
       "$msg\n",
       ":   'Rosenbaum Sensitivity Test for Hodges-Lehmann Point Estimate \\n'\n",
       "$bounds\n",
       ":   \n",
       "Gamma | Lower bound | Upper bound | \n",
       "|---|---|---|---|---|---|\n",
       "| 1.0      | 1584.300 | 1584.3   | \n",
       "| 1.1      |  970.200 | 1717.9   | \n",
       "| 1.2      |  622.300 | 2016.4   | \n",
       "| 1.3      |  332.300 | 2276.1   | \n",
       "| 1.4      |   88.195 | 2575.9   | \n",
       "| 1.5      |  -91.005 | 2850.4   | \n",
       "\n",
       "\n",
       "\n",
       "$note\n",
       ":   'Note: Gamma is Odds of Differential Assignment To\\n Treatment Due to Unobserved Factors \\n'\n",
       "\n",
       "\n"
      ],
      "text/plain": [
       "\n",
       " Rosenbaum Sensitivity Test for Hodges-Lehmann Point Estimate \n",
       " \n",
       "Unconfounded estimate ....  1584.295 \n",
       "\n",
       " Gamma Lower bound Upper bound\n",
       "   1.0    1584.300      1584.3\n",
       "   1.1     970.200      1717.9\n",
       "   1.2     622.300      2016.4\n",
       "   1.3     332.300      2276.1\n",
       "   1.4      88.195      2575.9\n",
       "   1.5     -91.005      2850.4\n",
       "\n",
       " Note: Gamma is Odds of Differential Assignment To\n",
       " Treatment Due to Unobserved Factors \n",
       " "
      ]
     },
     "metadata": {},
     "output_type": "display_data"
    }
   ],
   "source": [
    "# Sensitivity Analysis\n",
    "p <- psens(mgen1, Gamma=1.5, GammaInc=.1)\n",
    "p\n",
    "1 - p$bounds$`Upper bound`\n",
    "hlsens(mgen1, Gamma=1.5, GammaInc=.1)"
   ]
  },
  {
   "cell_type": "markdown",
   "metadata": {},
   "source": [
    "## Match vs. GenMatch Investigation "
   ]
  },
  {
   "cell_type": "code",
   "execution_count": 8,
   "metadata": {
    "ExecuteTime": {
     "end_time": "2020-02-17T06:59:56.885771Z",
     "start_time": "2020-02-17T06:59:32.469Z"
    }
   },
   "outputs": [
    {
     "name": "stdout",
     "output_type": "stream",
     "text": [
      "[1] \"39 / 185 are different matches\"\n"
     ]
    }
   ],
   "source": [
    "# Are matches from the genetic matching object the same and the ones from the match object?\n",
    "m = sum(gen1$matches[, 2] != mgen1$index.control)\n",
    "n = nrow(gen1$matches)\n",
    "print(sprintf(\"%d / %d are different matches\", m, n))"
   ]
  },
  {
   "cell_type": "code",
   "execution_count": 9,
   "metadata": {
    "ExecuteTime": {
     "end_time": "2020-02-17T07:00:17.453424Z",
     "start_time": "2020-02-17T06:59:32.473Z"
    }
   },
   "outputs": [
    {
     "name": "stdout",
     "output_type": "stream",
     "text": [
      "[1] \"0 / 272 are different matches\"\n",
      "[1] \"yes :)\"\n"
     ]
    }
   ],
   "source": [
    "# Is it because of the stochastic behavior of ties = FALSE?\n",
    "\n",
    "gen2 <- GenMatch(Tr=Tr, X=X, BalanceMat=BalanceMat, pop.size=50,\n",
    "                 data.type.int=FALSE, print=0)\n",
    "\n",
    "mgen2 <- Match(Y=Y, Tr=Tr, X=X, Weight.matrix=gen2)\n",
    "\n",
    "mbgen2 <- MatchBalance(Tr ~ age + I(age^2)+ educ + I(educ^2) + black +\n",
    "                       hisp + married + nodegr + re74 + I(re74^2) + re75 + I(re75^2) +\n",
    "                       u74 + u75 + I(re74*re75) + I(age*nodegr) + I(educ*re74) + I(educ*75),\n",
    "                       data=lalonde, match.out = mgen2, print=0)\n",
    "\n",
    "stopifnot(gen1$value[1] == mbgen1$AMsmallest.p.value)\n",
    "\n",
    "m = sum(gen2$matches[, 2] != mgen2$index.control)\n",
    "n = nrow(gen2$matches)\n",
    "print(sprintf(\"%d / %d are different matches\", m, n))\n",
    "\n",
    "print(\"yes :)\")"
   ]
  },
  {
   "cell_type": "markdown",
   "metadata": {},
   "source": [
    "### Thoughts\n",
    "\n",
    "There is an issue moving forward. Since the fit function is computed over the matches generated by `GenMatch`, with `ties=FALSE` we cannot guarantee that the loss of the `Match` output will be the same as the `GenMatch` output. The cause seems to be that an equal distance is the matching space (i.e., a tie among controls) does not entail that the ties controls result in the same level of robustness. In other words, a tie in the \"matching space\" is not equivalent to a tie in the \"robustness space\".\n",
    "\n",
    "Note that the only reason we do not want to allow ties is because the `psens` function does not account for it in its calculation of Rosenbaum's $\\Gamma$. A possible way to resolve the lack of stability in `GenMatch + psens` is to allow ties, but break them deterministically instead of stochastically inside the fitness function, and then do the same with the output of `Match`. For example, since the tied controls are ordered numerically, one could pick the first control only."
   ]
  },
  {
   "cell_type": "code",
   "execution_count": 10,
   "metadata": {
    "ExecuteTime": {
     "end_time": "2020-02-17T07:00:17.511671Z",
     "start_time": "2020-02-17T06:59:32.480Z"
    },
    "code_folding": []
   },
   "outputs": [
    {
     "data": {
      "text/html": [
       "<table>\n",
       "<tbody>\n",
       "\t<tr><td>6  </td><td>188</td><td>0.5</td></tr>\n",
       "\t<tr><td>6  </td><td>244</td><td>0.5</td></tr>\n",
       "</tbody>\n",
       "</table>\n"
      ],
      "text/latex": [
       "\\begin{tabular}{lll}\n",
       "\t 6   & 188 & 0.5\\\\\n",
       "\t 6   & 244 & 0.5\\\\\n",
       "\\end{tabular}\n"
      ],
      "text/markdown": [
       "\n",
       "| 6   | 188 | 0.5 | \n",
       "| 6   | 244 | 0.5 | \n",
       "\n",
       "\n"
      ],
      "text/plain": [
       "     [,1] [,2] [,3]\n",
       "[1,] 6    188  0.5 \n",
       "[2,] 6    244  0.5 "
      ]
     },
     "metadata": {},
     "output_type": "display_data"
    },
    {
     "data": {
      "text/html": [
       "'Instead of using 2 controls, we could deterministically pick the first one'"
      ],
      "text/latex": [
       "'Instead of using 2 controls, we could deterministically pick the first one'"
      ],
      "text/markdown": [
       "'Instead of using 2 controls, we could deterministically pick the first one'"
      ],
      "text/plain": [
       "[1] \"Instead of using 2 controls, we could deterministically pick the first one\""
      ]
     },
     "metadata": {},
     "output_type": "display_data"
    }
   ],
   "source": [
    "# Example\n",
    "first.tie.trt.idx <- which(gen2$matches[,3] < 1)[1]\n",
    "first.tie.rows.idx <- which(gen2$matches[,1] == first.tie.trt.idx)\n",
    "gen2$matches[first.tie.rows.idx, ]\n",
    "sprintf(\"Instead of using %d controls, we could deterministically pick the first one\", \n",
    "        length(first.tie.rows.idx))"
   ]
  },
  {
   "cell_type": "markdown",
   "metadata": {},
   "source": [
    "## Robustness Optimization with `rbounds`"
   ]
  },
  {
   "cell_type": "code",
   "execution_count": 11,
   "metadata": {
    "ExecuteTime": {
     "end_time": "2020-02-17T07:00:17.547441Z",
     "start_time": "2020-02-17T06:59:32.486Z"
    }
   },
   "outputs": [],
   "source": [
    "# Sensitivity optim function\n",
    "robust.fitfunc <- function(matches, BM) {\n",
    "\n",
    "  # my.fitfunc requires that the last column of the BM matrix contain the outcomes\n",
    "  # hence, it is VERY important not to run standard pval balance genetic matching\n",
    "  # with the same BM!\n",
    "  \n",
    "  # NOTE: psens does NOT acount for 1:many matching!\n",
    "  index.treated <- matches[,1]\n",
    "  index.control <- matches[,2]\n",
    "  \n",
    "  # Get treated and control unit outcomes\n",
    "  trt <-  BM[, ncol(BM)][index.treated]\n",
    "  ctrl <- BM[, ncol(BM)][index.control]\n",
    "  \n",
    "  # Compute sensitivity\n",
    "  psens.out <- psens(trt, ctrl, Gamma=1.5, GammaInc=.1)\n",
    "  \n",
    "  # We want to minimize the largest p-value. Thus,\n",
    "  pvals <- psens.out$bounds$`Upper bound`\n",
    "  \n",
    "  return(sort(pvals, decreasing=TRUE))\n",
    "}"
   ]
  },
  {
   "cell_type": "markdown",
   "metadata": {},
   "source": [
    "### Fitness Function Demonstration"
   ]
  },
  {
   "cell_type": "code",
   "execution_count": 12,
   "metadata": {
    "ExecuteTime": {
     "end_time": "2020-02-17T07:00:17.610497Z",
     "start_time": "2020-02-17T06:59:32.490Z"
    }
   },
   "outputs": [
    {
     "data": {
      "text/html": [
       "<ol class=list-inline>\n",
       "\t<li>0.4778</li>\n",
       "\t<li>0.3309</li>\n",
       "\t<li>0.1981</li>\n",
       "\t<li>0.0979</li>\n",
       "\t<li>0.0376</li>\n",
       "\t<li>0.0103</li>\n",
       "</ol>\n"
      ],
      "text/latex": [
       "\\begin{enumerate*}\n",
       "\\item 0.4778\n",
       "\\item 0.3309\n",
       "\\item 0.1981\n",
       "\\item 0.0979\n",
       "\\item 0.0376\n",
       "\\item 0.0103\n",
       "\\end{enumerate*}\n"
      ],
      "text/markdown": [
       "1. 0.4778\n",
       "2. 0.3309\n",
       "3. 0.1981\n",
       "4. 0.0979\n",
       "5. 0.0376\n",
       "6. 0.0103\n",
       "\n",
       "\n"
      ],
      "text/plain": [
       "[1] 0.4778 0.3309 0.1981 0.0979 0.0376 0.0103"
      ]
     },
     "metadata": {},
     "output_type": "display_data"
    },
    {
     "data": {
      "text/html": [
       "<ol class=list-inline>\n",
       "\t<li>0.3194</li>\n",
       "\t<li>0.1986</li>\n",
       "\t<li>0.1052</li>\n",
       "\t<li>0.0452</li>\n",
       "\t<li>0.0148</li>\n",
       "\t<li>0.0034</li>\n",
       "</ol>\n"
      ],
      "text/latex": [
       "\\begin{enumerate*}\n",
       "\\item 0.3194\n",
       "\\item 0.1986\n",
       "\\item 0.1052\n",
       "\\item 0.0452\n",
       "\\item 0.0148\n",
       "\\item 0.0034\n",
       "\\end{enumerate*}\n"
      ],
      "text/markdown": [
       "1. 0.3194\n",
       "2. 0.1986\n",
       "3. 0.1052\n",
       "4. 0.0452\n",
       "5. 0.0148\n",
       "6. 0.0034\n",
       "\n",
       "\n"
      ],
      "text/plain": [
       "[1] 0.3194 0.1986 0.1052 0.0452 0.0148 0.0034"
      ]
     },
     "metadata": {},
     "output_type": "display_data"
    }
   ],
   "source": [
    "# Demonstration ties=FALSE\n",
    "BM <- cbind(BalanceMat, re78)\n",
    "df <- data.frame(trt = mgen1$index.treated, ctrl = mgen1$index.control)\n",
    "robust.fitfunc(df, BM)           # With matches from Match()\n",
    "robust.fitfunc(gen1$matches, BM) # With matches from GenMatch()"
   ]
  },
  {
   "cell_type": "code",
   "execution_count": 13,
   "metadata": {
    "ExecuteTime": {
     "end_time": "2020-02-17T07:00:17.667982Z",
     "start_time": "2020-02-17T06:59:32.493Z"
    }
   },
   "outputs": [
    {
     "data": {
      "text/html": [
       "<ol class=list-inline>\n",
       "\t<li>0.7011</li>\n",
       "\t<li>0.5261</li>\n",
       "\t<li>0.3333</li>\n",
       "\t<li>0.1667</li>\n",
       "\t<li>0.0603</li>\n",
       "\t<li>0.014</li>\n",
       "</ol>\n"
      ],
      "text/latex": [
       "\\begin{enumerate*}\n",
       "\\item 0.7011\n",
       "\\item 0.5261\n",
       "\\item 0.3333\n",
       "\\item 0.1667\n",
       "\\item 0.0603\n",
       "\\item 0.014\n",
       "\\end{enumerate*}\n"
      ],
      "text/markdown": [
       "1. 0.7011\n",
       "2. 0.5261\n",
       "3. 0.3333\n",
       "4. 0.1667\n",
       "5. 0.0603\n",
       "6. 0.014\n",
       "\n",
       "\n"
      ],
      "text/plain": [
       "[1] 0.7011 0.5261 0.3333 0.1667 0.0603 0.0140"
      ]
     },
     "metadata": {},
     "output_type": "display_data"
    },
    {
     "data": {
      "text/html": [
       "<ol class=list-inline>\n",
       "\t<li>0.7011</li>\n",
       "\t<li>0.5261</li>\n",
       "\t<li>0.3333</li>\n",
       "\t<li>0.1667</li>\n",
       "\t<li>0.0603</li>\n",
       "\t<li>0.014</li>\n",
       "</ol>\n"
      ],
      "text/latex": [
       "\\begin{enumerate*}\n",
       "\\item 0.7011\n",
       "\\item 0.5261\n",
       "\\item 0.3333\n",
       "\\item 0.1667\n",
       "\\item 0.0603\n",
       "\\item 0.014\n",
       "\\end{enumerate*}\n"
      ],
      "text/markdown": [
       "1. 0.7011\n",
       "2. 0.5261\n",
       "3. 0.3333\n",
       "4. 0.1667\n",
       "5. 0.0603\n",
       "6. 0.014\n",
       "\n",
       "\n"
      ],
      "text/plain": [
       "[1] 0.7011 0.5261 0.3333 0.1667 0.0603 0.0140"
      ]
     },
     "metadata": {},
     "output_type": "display_data"
    }
   ],
   "source": [
    "# with ties=TRUE the results are the same, but the pvals are probably incorrect\n",
    "BM <- cbind(BalanceMat, re78)\n",
    "df <- data.frame(trt = mgen2$index.treated, ctrl = mgen2$index.control)\n",
    "robust.fitfunc(df, BM)           # With matches from Match()\n",
    "robust.fitfunc(gen2$matches, BM) # With matches from GenMatch()"
   ]
  },
  {
   "cell_type": "markdown",
   "metadata": {},
   "source": [
    "### Genetic Matching \n",
    "Before resolving the issue of ties, let us check whether genetic matching works in this simple case."
   ]
  },
  {
   "cell_type": "code",
   "execution_count": 14,
   "metadata": {
    "ExecuteTime": {
     "end_time": "2020-02-17T07:01:08.675514Z",
     "start_time": "2020-02-17T06:59:32.496Z"
    }
   },
   "outputs": [
    {
     "name": "stdout",
     "output_type": "stream",
     "text": [
      "\n",
      "\n",
      "Mon Feb 17 15:00:17 2020\n",
      "Domains:\n",
      " 0.000000e+00   <=  X1   <=    1.000000e+03 \n",
      " 0.000000e+00   <=  X2   <=    1.000000e+03 \n",
      " 0.000000e+00   <=  X3   <=    1.000000e+03 \n",
      " 0.000000e+00   <=  X4   <=    1.000000e+03 \n",
      " 0.000000e+00   <=  X5   <=    1.000000e+03 \n",
      " 0.000000e+00   <=  X6   <=    1.000000e+03 \n",
      " 0.000000e+00   <=  X7   <=    1.000000e+03 \n",
      " 0.000000e+00   <=  X8   <=    1.000000e+03 \n",
      " 0.000000e+00   <=  X9   <=    1.000000e+03 \n",
      " 0.000000e+00   <=  X10  <=    1.000000e+03 \n",
      "\n",
      "Data Type: Floating Point\n",
      "Operators (code number, name, population) \n",
      "\t(1) Cloning........................... \t65\n",
      "\t(2) Uniform Mutation.................. \t62\n",
      "\t(3) Boundary Mutation................. \t62\n",
      "\t(4) Non-Uniform Mutation.............. \t62\n",
      "\t(5) Polytope Crossover................ \t62\n",
      "\t(6) Simple Crossover.................. \t62\n",
      "\t(7) Whole Non-Uniform Mutation........ \t62\n",
      "\t(8) Heuristic Crossover............... \t62\n",
      "\t(9) Local-Minimum Crossover........... \t0\n",
      "\n",
      "SOFT Maximum Number of Generations: 100\n",
      "Maximum Nonchanging Generations: 20\n",
      "Population size       : 500\n",
      "Convergence Tolerance: 1.000000e-03\n",
      "\n",
      "Not Using the BFGS Derivative Based Optimizer on the Best Individual Each Generation.\n",
      "Not Checking Gradients before Stopping.\n",
      "Using Out of Bounds Individuals.\n",
      "\n",
      "Minimization Problem.\n",
      "\n",
      "\n",
      "Generation#\t    Solution Values (lexical)\n",
      "\n",
      "      0 \t1.151000e-01  5.790000e-02  2.420000e-02  7.900000e-03  1.900000e-03  3.000000e-04  \n",
      "\n",
      "      1 \t7.450000e-02  3.510000e-02  1.360000e-02  4.100000e-03  9.000000e-04  1.000000e-04  \n",
      "\n",
      "      2 \t2.920000e-02  1.190000e-02  4.000000e-03  1.000000e-03  2.000000e-04  0.000000e+00  \n",
      "\n",
      "      3 \t2.320000e-02  9.200000e-03  2.900000e-03  7.000000e-04  1.000000e-04  0.000000e+00  \n",
      "\n",
      "      8 \t2.210000e-02  8.700000e-03  2.800000e-03  7.000000e-04  1.000000e-04  0.000000e+00  \n",
      "\n",
      "'wait.generations' limit reached.\n",
      "No significant improvement in 20 generations.\n",
      "\n",
      "Solution Lexical Fitness Value:\n",
      "2.170000e-02  8.500000e-03  2.700000e-03  6.000000e-04  1.000000e-04  0.000000e+00  \n",
      "\n",
      "Parameters at the Solution:\n",
      "\n",
      " X[ 1] :\t5.971943e+02\n",
      " X[ 2] :\t7.471073e+01\n",
      " X[ 3] :\t9.422542e+02\n",
      " X[ 4] :\t2.762773e+01\n",
      " X[ 5] :\t4.504599e+02\n",
      " X[ 6] :\t8.367106e+02\n",
      " X[ 7] :\t6.684611e+02\n",
      " X[ 8] :\t6.188495e+02\n",
      " X[ 9] :\t4.857904e+02\n",
      " X[10] :\t1.532965e+02\n",
      "\n",
      "Solution Found Generation 8\n",
      "Number of Generations Run 29\n",
      "\n",
      "Mon Feb 17 15:01:08 2020\n",
      "Total run time : 0 hours 0 minutes and 51 seconds\n",
      "\n",
      "Estimate...  2489.6 \n",
      "SE.........  661.77 \n",
      "T-stat.....  3.762 \n",
      "p.val......  0.00016859 \n",
      "\n",
      "Original number of observations..............  445 \n",
      "Original number of treated obs...............  185 \n",
      "Matched number of observations...............  185 \n",
      "Matched number of observations  (unweighted).  185 \n",
      "\n"
     ]
    }
   ],
   "source": [
    "# Genetic Optimization\n",
    "genout3 <- GenMatch(Tr=Tr, X=X, BalanceMat=Y, pop.size=500,\n",
    "                   print=1, ties=FALSE, wait.generations = 20, fit.func = robust.fitfunc)\n",
    "\n",
    "mout <- Match(Y=Y, Tr=treat, X=X, ties=FALSE, Weight.matrix=genout3)\n",
    "summary(mout)"
   ]
  },
  {
   "cell_type": "code",
   "execution_count": 15,
   "metadata": {
    "ExecuteTime": {
     "end_time": "2020-02-17T07:01:08.719479Z",
     "start_time": "2020-02-17T06:59:32.499Z"
    }
   },
   "outputs": [
    {
     "data": {
      "text/html": [
       "<table>\n",
       "<tbody>\n",
       "\t<tr><td>0e+00 </td><td>0.0001</td><td>0.0006</td><td>0.0027</td><td>0.0085</td><td>0.0217</td></tr>\n",
       "\t<tr><td>2e-04 </td><td>0.0015</td><td>0.0066</td><td>0.0205</td><td>0.0502</td><td>0.1016</td></tr>\n",
       "</tbody>\n",
       "</table>\n"
      ],
      "text/latex": [
       "\\begin{tabular}{llllll}\n",
       "\t 0e+00  & 0.0001 & 0.0006 & 0.0027 & 0.0085 & 0.0217\\\\\n",
       "\t 2e-04  & 0.0015 & 0.0066 & 0.0205 & 0.0502 & 0.1016\\\\\n",
       "\\end{tabular}\n"
      ],
      "text/markdown": [
       "\n",
       "| 0e+00  | 0.0001 | 0.0006 | 0.0027 | 0.0085 | 0.0217 | \n",
       "| 2e-04  | 0.0015 | 0.0066 | 0.0205 | 0.0502 | 0.1016 | \n",
       "\n",
       "\n"
      ],
      "text/plain": [
       "     [,1]  [,2]   [,3]   [,4]   [,5]   [,6]  \n",
       "[1,] 0e+00 0.0001 0.0006 0.0027 0.0085 0.0217\n",
       "[2,] 2e-04 0.0015 0.0066 0.0205 0.0502 0.1016"
      ]
     },
     "metadata": {},
     "output_type": "display_data"
    }
   ],
   "source": [
    "# Notice that the pvalues from inside genetic matching \n",
    "# and from the match object are very different\n",
    "rbind(sort(genout3$value),\n",
    "      psens(mout, Gamma=1.5, GammaInc=.1)$bounds[, 3])"
   ]
  },
  {
   "cell_type": "markdown",
   "metadata": {},
   "source": [
    "## Robustness Optimization with `sensitivitymv` "
   ]
  },
  {
   "cell_type": "code",
   "execution_count": 16,
   "metadata": {
    "ExecuteTime": {
     "end_time": "2020-02-17T07:01:08.780946Z",
     "start_time": "2020-02-17T06:59:32.502Z"
    }
   },
   "outputs": [],
   "source": [
    "library(sensitivitymult)"
   ]
  },
  {
   "cell_type": "code",
   "execution_count": 17,
   "metadata": {
    "ExecuteTime": {
     "end_time": "2020-02-17T07:01:08.816679Z",
     "start_time": "2020-02-17T06:59:32.510Z"
    }
   },
   "outputs": [],
   "source": [
    "create_sets <- function(matches, BM) {\n",
    "    \n",
    "    # Get number of units and the number of rows in the matches dataframe \n",
    "    n_rows <- nrow(BM)\n",
    "    row_max <- nrow(matches)\n",
    "\n",
    "    # Get number of sets (n = number of treated units)\n",
    "    n_sets <- length(unique(matches[,1]))\n",
    "\n",
    "    # Create vector to store matched sets\n",
    "    matched_sets <- rep(NA, n_rows)\n",
    "\n",
    "    # Row pointer that will traverse the matches object\n",
    "    row_pointer <- 1\n",
    "\n",
    "    # Get index.treat and index.control\n",
    "    index.treat <- matches[,1]\n",
    "    index.control <- matches[,2]\n",
    "\n",
    "    for (set.idx in 1:n_sets) {\n",
    "\n",
    "        # Get the treated unit index of the current set\n",
    "        current.t.idx <- index.treat[row_pointer]\n",
    "        first.c.idx <- index.control[row_pointer]\n",
    "\n",
    "        # Store set index at position corresponding to treated and first control units\n",
    "        matched_sets[current.t.idx] <- set.idx\n",
    "        matched_sets[first.c.idx] <- set.idx\n",
    "\n",
    "        # Are there more controls in this set? If so, find them.\n",
    "        while (row_pointer < row_max && index.treat[row_pointer + 1] == current.t.idx) {\n",
    "\n",
    "            row_pointer <- row_pointer + 1             # Increase row pointer\n",
    "            next.c.idx <- index.control[row_pointer]   # Get index of next control in the set\n",
    "            matched_sets[next.c.idx] <- set.idx        # Store set index at corresponding position\n",
    "        }\n",
    "\n",
    "        # After finding all controls in this set, increase row pointer \n",
    "        # before going to the next set\n",
    "        row_pointer <- row_pointer + 1  \n",
    "\n",
    "    }\n",
    "    \n",
    "    df <- data.frame(BM, matched_sets)[!is.na(matched_sets),]\n",
    "    df <- df[order(df$matched_sets),]\n",
    "\n",
    "    return(matched_sets)\n",
    "}"
   ]
  },
  {
   "cell_type": "code",
   "execution_count": 18,
   "metadata": {
    "ExecuteTime": {
     "end_time": "2020-02-17T07:01:08.886911Z",
     "start_time": "2020-02-17T06:59:32.515Z"
    }
   },
   "outputs": [],
   "source": [
    "data_prep <- create_sets(gen2$matches, data.frame(re78, treat))"
   ]
  },
  {
   "cell_type": "code",
   "execution_count": 19,
   "metadata": {
    "ExecuteTime": {
     "end_time": "2020-02-17T07:01:08.961814Z",
     "start_time": "2020-02-17T06:59:32.520Z"
    }
   },
   "outputs": [
    {
     "ename": "ERROR",
     "evalue": "Error in is.vector(y) & is.vector(z) & is.vector(mset): $ operator is invalid for atomic vectors\n",
     "output_type": "error",
     "traceback": [
      "Error in is.vector(y) & is.vector(z) & is.vector(mset): $ operator is invalid for atomic vectors\nTraceback:\n",
      "1. senm(y = data_prep$re78, z = data_prep$treat, mset = data_prep$matched_sets, \n .     gamma = 1, inner = 0, trim = Inf, lambda = 1/2, TonT = TRUE)",
      "2. stopifnot(is.vector(y) & is.vector(z) & is.vector(mset))",
      "3. withCallingHandlers(tryCatch(if (missE) ...elt(i) else eval(cl.i, \n .     envir = envir), error = function(e) {\n .     e$call <- cl.i\n .     stop(e)\n . }), warning = function(w) {\n .     w$call <- cl.i\n .     w\n . })",
      "4. tryCatch(if (missE) ...elt(i) else eval(cl.i, envir = envir), \n .     error = function(e) {\n .         e$call <- cl.i\n .         stop(e)\n .     })",
      "5. tryCatchList(expr, classes, parentenv, handlers)",
      "6. tryCatchOne(expr, names, parentenv, handlers[[1L]])",
      "7. value[[3L]](cond)"
     ]
    }
   ],
   "source": [
    "senm(y=data_prep$re78, z=data_prep$treat, mset=data_prep$matched_sets, \n",
    "     gamma=1, inner=0, trim=Inf, lambda = 1/2, TonT=TRUE)"
   ]
  },
  {
   "cell_type": "markdown",
   "metadata": {},
   "source": [
    "It breaks with replace..."
   ]
  },
  {
   "cell_type": "code",
   "execution_count": 30,
   "metadata": {
    "ExecuteTime": {
     "end_time": "2020-02-18T04:45:06.154373Z",
     "start_time": "2020-02-18T04:45:06.110Z"
    }
   },
   "outputs": [
    {
     "ename": "ERROR",
     "evalue": "Error in make_ymat(re78, matches): object 'matches' not found\n",
     "output_type": "error",
     "traceback": [
      "Error in make_ymat(re78, matches): object 'matches' not found\nTraceback:\n",
      "1. make_ymat(re78, matches)"
     ]
    }
   ],
   "source": [
    "# Okay I created this piece of shit function so that I could have data from matches\n",
    "# ready to be input by the format required by senmv. Hopefully it works now?\n",
    "# Note that I went directly for senmv because if I tried to get it in form\n",
    "# for senm in sensitivitymult it would be a big waste of time since it would use it\n",
    "# to reconstruct the matrix any way (apparently at least). so here we are.\n",
    "# Hopefully the next step would be to check whether I'm successful in passing this matrix\n",
    "# to senmv to get the p values. If so, it should hopefully be easy to put in the optim func\n",
    "# and be done with it yay\n",
    "\n",
    "make_ymat<-function(y, matches){\n",
    "  \n",
    "  treated <- matches[, 1]\n",
    "  controls <- matches[, 2]\n",
    "  trt_table <- table(treated)\n",
    "  n_sets <- length(trt_table)\n",
    "  max_ctrls <- max(trt_table)\n",
    "  \n",
    "  # Smallest table necessary is number of sets vs. size of largest set\n",
    "  y_mat <- matrix(NA, n_sets, max_ctrls + 1)\n",
    "  \n",
    "  m <- 0 # Auxiliary indexer\n",
    "  \n",
    "  # For each set\n",
    "  for (i in 1:n_sets){\n",
    "    \n",
    "    y_mat[i, 1] <- y[as.numeric(names(trt_table)[i])] # Get treated outcome\n",
    "    y_mat[i, 2:(1+trt_table[i])] <- y[(m+1):(m+trt_table[i])]\n",
    "    m<-m+trt_table[i]\n",
    "  }\n",
    "  y_mat\n",
    "}\n",
    "\n",
    "ymat <- make_ymat(re78, matches)"
   ]
  },
  {
   "cell_type": "code",
   "execution_count": null,
   "metadata": {},
   "outputs": [],
   "source": [
    "senm(y=data_prep$re78, z=data_prep$treat, mset=data_prep$matched_sets, \n",
    "     gamma=1, inner=0, trim=Inf, lambda = 1/2, TonT=TRUE)"
   ]
  }
 ],
 "metadata": {
  "kernelspec": {
   "display_name": "R [conda env:renv]",
   "language": "R",
   "name": "conda-env-renv-r"
  },
  "language_info": {
   "codemirror_mode": "r",
   "file_extension": ".r",
   "mimetype": "text/x-r-source",
   "name": "R",
   "pygments_lexer": "r",
   "version": "3.5.1"
  },
  "toc": {
   "base_numbering": 1,
   "nav_menu": {},
   "number_sections": true,
   "sideBar": true,
   "skip_h1_title": false,
   "title_cell": "Table of Contents",
   "title_sidebar": "Contents",
   "toc_cell": false,
   "toc_position": {},
   "toc_section_display": true,
   "toc_window_display": false
  },
  "varInspector": {
   "cols": {
    "lenName": 16,
    "lenType": 16,
    "lenVar": 40
   },
   "kernels_config": {
    "python": {
     "delete_cmd_postfix": "",
     "delete_cmd_prefix": "del ",
     "library": "var_list.py",
     "varRefreshCmd": "print(var_dic_list())"
    },
    "r": {
     "delete_cmd_postfix": ") ",
     "delete_cmd_prefix": "rm(",
     "library": "var_list.r",
     "varRefreshCmd": "cat(var_dic_list()) "
    }
   },
   "types_to_exclude": [
    "module",
    "function",
    "builtin_function_or_method",
    "instance",
    "_Feature"
   ],
   "window_display": false
  }
 },
 "nbformat": 4,
 "nbformat_minor": 2
}
